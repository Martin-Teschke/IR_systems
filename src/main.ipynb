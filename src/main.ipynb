{
  "nbformat": 4,
  "nbformat_minor": 0,
  "metadata": {
    "colab": {
      "provenance": [],
      "authorship_tag": "ABX9TyPletAlCP8hae27VPNf6rsc",
      "include_colab_link": true
    },
    "kernelspec": {
      "name": "python3",
      "display_name": "Python 3"
    },
    "language_info": {
      "name": "python"
    }
  },
  "cells": [
    {
      "cell_type": "markdown",
      "metadata": {
        "id": "view-in-github",
        "colab_type": "text"
      },
      "source": [
        "<a href=\"https://colab.research.google.com/github/Martin-Teschke/IR_systems/blob/main/src/main.ipynb\" target=\"_parent\"><img src=\"https://colab.research.google.com/assets/colab-badge.svg\" alt=\"Open In Colab\"/></a>"
      ]
    },
    {
      "cell_type": "code",
      "source": [
        "!wget http://ir.dcs.gla.ac.uk/resources/test_collections/cisi/cisi.tar.gz"
      ],
      "metadata": {
        "colab": {
          "base_uri": "https://localhost:8080/"
        },
        "id": "IThvd2eh1t8Q",
        "outputId": "276cedfe-f8ed-4fc4-dda9-a6aea828544c"
      },
      "execution_count": 91,
      "outputs": [
        {
          "output_type": "stream",
          "name": "stdout",
          "text": [
            "--2023-02-22 22:54:43--  http://ir.dcs.gla.ac.uk/resources/test_collections/cisi/cisi.tar.gz\n",
            "Resolving ir.dcs.gla.ac.uk (ir.dcs.gla.ac.uk)... 130.209.240.253\n",
            "Connecting to ir.dcs.gla.ac.uk (ir.dcs.gla.ac.uk)|130.209.240.253|:80... connected.\n",
            "HTTP request sent, awaiting response... 200 OK\n",
            "Length: 775144 (757K) [application/gzip]\n",
            "Saving to: ‘cisi.tar.gz.1’\n",
            "\n",
            "cisi.tar.gz.1       100%[===================>] 756.98K   914KB/s    in 0.8s    \n",
            "\n",
            "2023-02-22 22:54:45 (914 KB/s) - ‘cisi.tar.gz.1’ saved [775144/775144]\n",
            "\n"
          ]
        }
      ]
    },
    {
      "cell_type": "code",
      "source": [
        "!tar xvzf cisi.tar.gz"
      ],
      "metadata": {
        "colab": {
          "base_uri": "https://localhost:8080/"
        },
        "id": "dA3TN59x1um6",
        "outputId": "fa14a603-c8d8-4fb4-d72c-cfc2998a227c"
      },
      "execution_count": 2,
      "outputs": [
        {
          "output_type": "stream",
          "name": "stdout",
          "text": [
            "CISI.ALL\n",
            "CISI.BLN\n",
            "CISI.QRY\n",
            "CISI.REL\n"
          ]
        }
      ]
    },
    {
      "cell_type": "code",
      "execution_count": 14,
      "metadata": {
        "colab": {
          "base_uri": "https://localhost:8080/"
        },
        "id": "0vwx3Bsu0vQN",
        "outputId": "304b7f46-55b7-415c-f54c-8503384e01eb"
      },
      "outputs": [
        {
          "output_type": "stream",
          "name": "stdout",
          "text": [
            "/content/files/CISI.ALL\n",
            "CISI.ALL : 1460 items, over 108747 lines.\n",
            "/content/files/CISI.BLN\n",
            "CISI.BLN : 0 items, over 86 lines.\n",
            "/content/files/CISI.REL\n",
            "CISI.REL : 76 items, over 3114 lines.\n",
            "/content/files/CISI.QRY\n",
            "CISI.QRY : 112 items, over 1525 lines.\n"
          ]
        }
      ],
      "source": [
        "import os\n",
        "for dirname, _, filenames in os.walk('/content/files'):\n",
        "    for filename in filenames:\n",
        "        print(os.path.join(dirname, filename))\n",
        "        with open(os.path.join(dirname, filename)) as f:\n",
        "            line_count = 0\n",
        "            id_set = set()\n",
        "            for l in f.readlines():\n",
        "                line_count += 1\n",
        "                if filename == \"CISI.REL\":\n",
        "                    id_set.add(l.lstrip(\" \").split(\" \")[0])\n",
        "                elif l.startswith(\".I \"):\n",
        "                    id_set.add(l.split(\" \")[1].strip())\n",
        "            print(f\"{filename} : {len(id_set)} items, over {line_count} lines.\")"
      ]
    },
    {
      "cell_type": "code",
      "source": [
        "with open('/content/files/CISI.ALL') as f:\n",
        "    lines = \"\"\n",
        "    for l in f.readlines():\n",
        "        lines += \"\\n\" + l.strip() if l.startswith(\".\") else \" \" + l.strip()\n",
        "    lines = lines.lstrip(\"\\n\").split(\"\\n\")\n",
        "    \n",
        "# print n lines\n",
        "n = 5\n",
        "for l in lines[:n]:\n",
        "    print(l)"
      ],
      "metadata": {
        "colab": {
          "base_uri": "https://localhost:8080/"
        },
        "id": "BjTajhaP0yZT",
        "outputId": "9dccb376-2750-490a-90d4-39453d632583"
      },
      "execution_count": 16,
      "outputs": [
        {
          "output_type": "stream",
          "name": "stdout",
          "text": [
            ".I 1\n",
            ".T 18 Editions of the Dewey Decimal Classifications\n",
            ".A Comaromi, J.P.\n",
            ".W The present study is a history of the DEWEY Decimal Classification.  The first edition of the DDC was published in 1876, the eighteenth edition in 1971, and future editions will continue to appear as needed.  In spite of the DDC's long and healthy life, however, its full story has never been told.  There have been biographies of Dewey that briefly describe his system, but this is the first attempt to provide a detailed history of the work that more than any other has spurred the growth of librarianship in this country and abroad.\n",
            ".X 1\t5\t1 92\t1\t1 262\t1\t1 556\t1\t1 1004\t1\t1 1024\t1\t1 1024\t1\t1\n"
          ]
        }
      ]
    },
    {
      "cell_type": "code",
      "source": [
        "doc_set = {}\n",
        "doc_id = \"\"\n",
        "doc_text = \"\"\n",
        "for l in lines:\n",
        "    if l.startswith(\".I\"):\n",
        "        doc_id = l.split(\" \")[1].strip()\n",
        "    elif l.startswith(\".X\"):\n",
        "        doc_set[doc_id] = doc_text.lstrip(\" \")\n",
        "        doc_id = \"\"\n",
        "        doc_text = \"\"\n",
        "    else:\n",
        "        doc_text += l.strip()[3:] + \" \" # The first 3 characters of a line can be ignored.\n",
        "\n",
        "# Print something to see the dictionary structure, etc.\n",
        "print(f\"Number of documents = {len(doc_set)}\" + \".\\n\")\n",
        "print(doc_set[\"1\"]) # note that the dictionary indexes are strings, not numbers. "
      ],
      "metadata": {
        "colab": {
          "base_uri": "https://localhost:8080/"
        },
        "id": "rXhyhYKz2_LR",
        "outputId": "277b09f9-fcd0-42a7-c521-903365fbbcff"
      },
      "execution_count": 18,
      "outputs": [
        {
          "output_type": "stream",
          "name": "stdout",
          "text": [
            "Number of documents = 1460.\n",
            "\n",
            "18 Editions of the Dewey Decimal Classifications Comaromi, J.P. The present study is a history of the DEWEY Decimal Classification.  The first edition of the DDC was published in 1876, the eighteenth edition in 1971, and future editions will continue to appear as needed.  In spite of the DDC's long and healthy life, however, its full story has never been told.  There have been biographies of Dewey that briefly describe his system, but this is the first attempt to provide a detailed history of the work that more than any other has spurred the growth of librarianship in this country and abroad. \n"
          ]
        }
      ]
    },
    {
      "cell_type": "code",
      "source": [
        "with open('/content/files/CISI.QRY') as f:\n",
        "    lines = \"\"\n",
        "    for l in f.readlines():\n",
        "        lines += \"\\n\" + l.strip() if l.startswith(\".\") else \" \" + l.strip()\n",
        "    lines = lines.lstrip(\"\\n\").split(\"\\n\")\n",
        "    \n",
        "qry_set = {}\n",
        "qry_id = \"\"\n",
        "for l in lines:\n",
        "    if l.startswith(\".I\"):\n",
        "        qry_id = l.split(\" \")[1].strip()\n",
        "    elif l.startswith(\".W\"):\n",
        "        qry_set[qry_id] = l.strip()[3:]\n",
        "        qry_id = \"\"\n",
        "    \n",
        "# Print something to see the dictionary structure, etc.\n",
        "print(f\"Number of queries = {len(qry_set)}\" + \".\\n\")\n",
        "print(qry_set[\"3\"]) # note that the dictionary indexes are strings, not numbers. "
      ],
      "metadata": {
        "colab": {
          "base_uri": "https://localhost:8080/"
        },
        "id": "LnRyN_Hr0ybo",
        "outputId": "f31536ff-5e0d-436e-d96a-a2998777f0d2"
      },
      "execution_count": 8,
      "outputs": [
        {
          "output_type": "stream",
          "name": "stdout",
          "text": [
            "Number of queries = 112.\n",
            "\n",
            "What is information science?  Give definitions where possible.\n"
          ]
        }
      ]
    },
    {
      "cell_type": "code",
      "source": [
        "!pip install rank_bm25\n",
        "!pip install  nltk\n",
        "from rank_bm25 import BM25Okapi\n",
        "import string\n",
        "import nltk\n",
        "from nltk.corpus import stopwords\n",
        "nltk.download('stopwords')\n",
        "import pandas as pd"
      ],
      "metadata": {
        "colab": {
          "base_uri": "https://localhost:8080/"
        },
        "id": "atyKr9BP0yeA",
        "outputId": "fbd0aaed-b021-48bb-c3ab-639726b753ee"
      },
      "execution_count": 61,
      "outputs": [
        {
          "output_type": "stream",
          "name": "stdout",
          "text": [
            "Looking in indexes: https://pypi.org/simple, https://us-python.pkg.dev/colab-wheels/public/simple/\n",
            "Requirement already satisfied: rank_bm25 in /usr/local/lib/python3.8/dist-packages (0.2.2)\n",
            "Requirement already satisfied: numpy in /usr/local/lib/python3.8/dist-packages (from rank_bm25) (1.21.6)\n",
            "Looking in indexes: https://pypi.org/simple, https://us-python.pkg.dev/colab-wheels/public/simple/\n",
            "Requirement already satisfied: nltk in /usr/local/lib/python3.8/dist-packages (3.7)\n",
            "Requirement already satisfied: regex>=2021.8.3 in /usr/local/lib/python3.8/dist-packages (from nltk) (2022.6.2)\n",
            "Requirement already satisfied: joblib in /usr/local/lib/python3.8/dist-packages (from nltk) (1.2.0)\n",
            "Requirement already satisfied: tqdm in /usr/local/lib/python3.8/dist-packages (from nltk) (4.64.1)\n",
            "Requirement already satisfied: click in /usr/local/lib/python3.8/dist-packages (from nltk) (7.1.2)\n"
          ]
        },
        {
          "output_type": "stream",
          "name": "stderr",
          "text": [
            "[nltk_data] Downloading package stopwords to /root/nltk_data...\n",
            "[nltk_data]   Package stopwords is already up-to-date!\n"
          ]
        }
      ]
    },
    {
      "cell_type": "code",
      "source": [
        "all_stopwords = stopwords.words('english')\n",
        "all_stopwords.append('')"
      ],
      "metadata": {
        "id": "O0Z2ht3i0ygd"
      },
      "execution_count": 12,
      "outputs": []
    },
    {
      "cell_type": "code",
      "source": [
        "def data_prep(doc_set):\n",
        "\n",
        "  def clean_corpus(input_string):\n",
        "    return input_string.translate(str.maketrans('','', string.punctuation)).lower().lstrip(\" \")\n",
        "\n",
        "  doc_clean = {}\n",
        "  # Retirando pontuação e caixa alta\n",
        "  for key, value in doc_set.items():\n",
        "    doc_clean[key] = clean_corpus(value)\n",
        "\n",
        "  # Quebrando as frases em tokens\n",
        "  tokenized_corpus = [doc.split(\" \") for doc in doc_clean.values()]\n",
        "\n",
        "  # Retirando stopwords\n",
        "  tokens_without_sw = []\n",
        "  lista = []\n",
        "  for item in tokenized_corpus:\n",
        "    for word in item:\n",
        "      if word not in all_stopwords:\n",
        "        lista.append(word)\n",
        "    tokens_without_sw.append(lista)\n",
        "    lista=[]\n",
        "\n",
        "  return tokens_without_sw"
      ],
      "metadata": {
        "id": "XkaLc5GA0yi1"
      },
      "execution_count": 21,
      "outputs": []
    },
    {
      "cell_type": "code",
      "source": [
        "tokens_corpus = data_prep(doc_set)\n",
        "tokens_query = data_prep(qry_set)"
      ],
      "metadata": {
        "id": "wIe5PAH-0ylQ"
      },
      "execution_count": 23,
      "outputs": []
    },
    {
      "cell_type": "code",
      "source": [
        "bm25 = BM25Okapi(tokens_corpus)"
      ],
      "metadata": {
        "id": "90spl9IW0yno"
      },
      "execution_count": 26,
      "outputs": []
    },
    {
      "cell_type": "code",
      "source": [
        "resposta = bm25.get_top_n(tokens_query[0], tokens_corpus, n=1)"
      ],
      "metadata": {
        "id": "jgOE7PKZ31t5"
      },
      "execution_count": 80,
      "outputs": []
    },
    {
      "cell_type": "code",
      "source": [
        "# tokens_corpus é uma lista, que é iniciada na posição 0 enquanto o doc_set é um dicionário na qual a primeira chave é a string 1.\n",
        "# logo teremos que incrementar 1 na contagem quando mudamos do index do tokens_corpus para o doc_set onde localizamos o texto original.\n",
        "# mesma lógica é aplicada para as queries.\n",
        "tokens_corpus.index(resposta[0])"
      ],
      "metadata": {
        "colab": {
          "base_uri": "https://localhost:8080/"
        },
        "id": "Ye2LSO2831y5",
        "outputId": "23a1ed64-5ce7-4329-8bb9-65959ec083b1"
      },
      "execution_count": 81,
      "outputs": [
        {
          "output_type": "execute_result",
          "data": {
            "text/plain": [
              "721"
            ]
          },
          "metadata": {},
          "execution_count": 81
        }
      ]
    },
    {
      "cell_type": "code",
      "source": [
        "doc_set['722']"
      ],
      "metadata": {
        "colab": {
          "base_uri": "https://localhost:8080/",
          "height": 110
        },
        "id": "c-Jn1OqT0yqK",
        "outputId": "1da50941-6b22-4840-ea5f-a56422441868"
      },
      "execution_count": 85,
      "outputs": [
        {
          "output_type": "execute_result",
          "data": {
            "text/plain": [
              "'Information Transfer Limitations of Titles of Chemical Documents Bottle, R.R. Seeley, C.R. Some methods of estimating the minimum amounts of information in a document not retrievable through its title are discussed.  An analysis of the information transferred by different types of keywords is helpful in planning search strategies, e.g., 30% of chemical substances mentioned in journal articles are not discernable in their titles even when broad class names are used as synonyms.  Patents have considerably less informative titles than journal articles.  In nuclear science, report titles are also less informative than those of journal articles, but the proportion of reports with completely uninformative titles is now only 10% of the 1957 value.  Titles in chemistry are more informative than those in most other fields, but the use of alerting and other services based on titles requires a good understanding of the underlying information transfer principles. '"
            ],
            "application/vnd.google.colaboratory.intrinsic+json": {
              "type": "string"
            }
          },
          "metadata": {},
          "execution_count": 85
        }
      ]
    },
    {
      "cell_type": "code",
      "source": [
        "qry_set['1']"
      ],
      "metadata": {
        "colab": {
          "base_uri": "https://localhost:8080/",
          "height": 55
        },
        "id": "_4F4E9p-8pnW",
        "outputId": "6fead017-9dcb-4efe-9dbf-600a6d693202"
      },
      "execution_count": 86,
      "outputs": [
        {
          "output_type": "execute_result",
          "data": {
            "text/plain": [
              "'What problems and concerns are there in making up descriptive titles? What difficulties are involved in automatically retrieving articles from approximate titles? What is the usual relevance of the content of articles to their titles?'"
            ],
            "application/vnd.google.colaboratory.intrinsic+json": {
              "type": "string"
            }
          },
          "metadata": {},
          "execution_count": 86
        }
      ]
    },
    {
      "cell_type": "code",
      "source": [
        "data = [bm25.get_scores(query) for query in tokens_query]"
      ],
      "metadata": {
        "id": "JeydG7X4C0aQ"
      },
      "execution_count": 71,
      "outputs": []
    },
    {
      "cell_type": "code",
      "source": [
        "matrix = pd.DataFrame(data=data, columns=['documento_'+key for key in doc_set.keys()], index=['query_'+key for key in qry_set.keys()])"
      ],
      "metadata": {
        "id": "wYRHaXQOBkwL"
      },
      "execution_count": 73,
      "outputs": []
    },
    {
      "cell_type": "code",
      "source": [
        "matrix.T.sort_values(by=['query_1'], ascending=False)"
      ],
      "metadata": {
        "colab": {
          "base_uri": "https://localhost:8080/",
          "height": 487
        },
        "id": "W7GmnzibDrNK",
        "outputId": "e34ba5ff-a713-43d7-e71a-51672aedb2fe"
      },
      "execution_count": 90,
      "outputs": [
        {
          "output_type": "execute_result",
          "data": {
            "text/plain": [
              "                  query_1   query_2   query_3   query_4   query_5   query_6  \\\n",
              "documento_722   26.821686  5.214518  1.910430  1.909822  1.984598  0.000000   \n",
              "documento_1299  23.662679  5.877079  2.010721  3.742470  0.717053  5.393582   \n",
              "documento_429   21.953168  4.262629  2.444881  1.758746  4.746422  0.000000   \n",
              "documento_1281  21.781078  0.320098  0.320098  0.000000  0.640196  0.000000   \n",
              "documento_759   21.345521  8.110040  0.000000  0.000000  0.000000  0.000000   \n",
              "...                   ...       ...       ...       ...       ...       ...   \n",
              "documento_615    0.000000  0.346084  0.346084  0.000000  7.539098  0.000000   \n",
              "documento_617    0.000000  1.217109  0.000000  0.000000  1.286511  0.000000   \n",
              "documento_618    0.000000  1.464918  1.653516  2.329096  0.441709  0.000000   \n",
              "documento_619    0.000000  3.158837  2.369910  0.000000  2.421074  0.000000   \n",
              "documento_1460   0.000000  0.375396  0.375396  0.000000  2.446892  0.000000   \n",
              "\n",
              "                  query_7   query_8   query_9  query_10  ...  query_103  \\\n",
              "documento_722    5.913486  1.910430  6.824395  5.397583  ...   4.446210   \n",
              "documento_1299   7.704922  2.010721  5.877079  0.358526  ...   0.000000   \n",
              "documento_429    4.672965  1.729867  1.729867  2.768187  ...   7.395412   \n",
              "documento_1281   0.000000  0.320098  1.747394  5.407747  ...   9.083865   \n",
              "documento_759    7.110539  3.160579  3.949960  0.000000  ...   1.930242   \n",
              "...                   ...       ...       ...       ...  ...        ...   \n",
              "documento_615   10.310437  2.968113  6.898937  4.676257  ...   4.023305   \n",
              "documento_617    1.286511  1.286511  4.955691  1.286511  ...   6.253500   \n",
              "documento_618    2.329096  1.653516  0.220855  6.373341  ...   1.940929   \n",
              "documento_619    1.966789  4.336698  2.193931  2.193931  ...   0.000000   \n",
              "documento_1460   4.776747  0.375396  0.375396  0.375396  ...   4.182685   \n",
              "\n",
              "                query_104  query_105  query_106  query_107  query_108  \\\n",
              "documento_722   12.825051   4.874753  13.599420  38.926282   9.119012   \n",
              "documento_1299  12.521579   0.358526  39.372799   5.471259   4.197091   \n",
              "documento_429   20.371878  17.722563  14.667929  48.729563   6.348331   \n",
              "documento_1281  13.521319  14.724690  23.531461  19.337303   4.201149   \n",
              "documento_759    1.917258   2.732502  13.499331   9.128471   2.566350   \n",
              "...                   ...        ...        ...        ...        ...   \n",
              "documento_615   14.022402   3.174115  38.325162  22.715269   7.784728   \n",
              "documento_617    4.772650   3.789254  14.366532  18.000820  26.668439   \n",
              "documento_618    9.939484   5.544515   6.992243   2.897579   8.215089   \n",
              "documento_619   13.029461   3.410517  27.541975  21.764139   7.706727   \n",
              "documento_1460   2.173598   4.843593  15.860868   8.740766   0.375396   \n",
              "\n",
              "                query_109  query_110  query_111  query_112  \n",
              "documento_722   15.620647   1.883492  11.506797   6.669314  \n",
              "documento_1299  13.666801   9.286922   2.896675   2.223290  \n",
              "documento_429   11.942513   6.721292  15.502582  11.374344  \n",
              "documento_1281   5.181719   0.320098  16.285344  10.771613  \n",
              "documento_759   11.462074  14.869839  15.346670   4.127733  \n",
              "...                   ...        ...        ...        ...  \n",
              "documento_615   15.678885   8.646381  10.222847   5.849051  \n",
              "documento_617   22.722172   5.763355  10.952809  12.022902  \n",
              "documento_618   25.185787   2.161784   8.591200   2.706562  \n",
              "documento_619   14.017804  24.164108  17.491944   4.770407  \n",
              "documento_1460  41.623263   9.147956   8.365370   6.405894  \n",
              "\n",
              "[1460 rows x 112 columns]"
            ],
            "text/html": [
              "\n",
              "  <div id=\"df-ac201ea0-c88a-467c-8884-08bfc7041559\">\n",
              "    <div class=\"colab-df-container\">\n",
              "      <div>\n",
              "<style scoped>\n",
              "    .dataframe tbody tr th:only-of-type {\n",
              "        vertical-align: middle;\n",
              "    }\n",
              "\n",
              "    .dataframe tbody tr th {\n",
              "        vertical-align: top;\n",
              "    }\n",
              "\n",
              "    .dataframe thead th {\n",
              "        text-align: right;\n",
              "    }\n",
              "</style>\n",
              "<table border=\"1\" class=\"dataframe\">\n",
              "  <thead>\n",
              "    <tr style=\"text-align: right;\">\n",
              "      <th></th>\n",
              "      <th>query_1</th>\n",
              "      <th>query_2</th>\n",
              "      <th>query_3</th>\n",
              "      <th>query_4</th>\n",
              "      <th>query_5</th>\n",
              "      <th>query_6</th>\n",
              "      <th>query_7</th>\n",
              "      <th>query_8</th>\n",
              "      <th>query_9</th>\n",
              "      <th>query_10</th>\n",
              "      <th>...</th>\n",
              "      <th>query_103</th>\n",
              "      <th>query_104</th>\n",
              "      <th>query_105</th>\n",
              "      <th>query_106</th>\n",
              "      <th>query_107</th>\n",
              "      <th>query_108</th>\n",
              "      <th>query_109</th>\n",
              "      <th>query_110</th>\n",
              "      <th>query_111</th>\n",
              "      <th>query_112</th>\n",
              "    </tr>\n",
              "  </thead>\n",
              "  <tbody>\n",
              "    <tr>\n",
              "      <th>documento_722</th>\n",
              "      <td>26.821686</td>\n",
              "      <td>5.214518</td>\n",
              "      <td>1.910430</td>\n",
              "      <td>1.909822</td>\n",
              "      <td>1.984598</td>\n",
              "      <td>0.000000</td>\n",
              "      <td>5.913486</td>\n",
              "      <td>1.910430</td>\n",
              "      <td>6.824395</td>\n",
              "      <td>5.397583</td>\n",
              "      <td>...</td>\n",
              "      <td>4.446210</td>\n",
              "      <td>12.825051</td>\n",
              "      <td>4.874753</td>\n",
              "      <td>13.599420</td>\n",
              "      <td>38.926282</td>\n",
              "      <td>9.119012</td>\n",
              "      <td>15.620647</td>\n",
              "      <td>1.883492</td>\n",
              "      <td>11.506797</td>\n",
              "      <td>6.669314</td>\n",
              "    </tr>\n",
              "    <tr>\n",
              "      <th>documento_1299</th>\n",
              "      <td>23.662679</td>\n",
              "      <td>5.877079</td>\n",
              "      <td>2.010721</td>\n",
              "      <td>3.742470</td>\n",
              "      <td>0.717053</td>\n",
              "      <td>5.393582</td>\n",
              "      <td>7.704922</td>\n",
              "      <td>2.010721</td>\n",
              "      <td>5.877079</td>\n",
              "      <td>0.358526</td>\n",
              "      <td>...</td>\n",
              "      <td>0.000000</td>\n",
              "      <td>12.521579</td>\n",
              "      <td>0.358526</td>\n",
              "      <td>39.372799</td>\n",
              "      <td>5.471259</td>\n",
              "      <td>4.197091</td>\n",
              "      <td>13.666801</td>\n",
              "      <td>9.286922</td>\n",
              "      <td>2.896675</td>\n",
              "      <td>2.223290</td>\n",
              "    </tr>\n",
              "    <tr>\n",
              "      <th>documento_429</th>\n",
              "      <td>21.953168</td>\n",
              "      <td>4.262629</td>\n",
              "      <td>2.444881</td>\n",
              "      <td>1.758746</td>\n",
              "      <td>4.746422</td>\n",
              "      <td>0.000000</td>\n",
              "      <td>4.672965</td>\n",
              "      <td>1.729867</td>\n",
              "      <td>1.729867</td>\n",
              "      <td>2.768187</td>\n",
              "      <td>...</td>\n",
              "      <td>7.395412</td>\n",
              "      <td>20.371878</td>\n",
              "      <td>17.722563</td>\n",
              "      <td>14.667929</td>\n",
              "      <td>48.729563</td>\n",
              "      <td>6.348331</td>\n",
              "      <td>11.942513</td>\n",
              "      <td>6.721292</td>\n",
              "      <td>15.502582</td>\n",
              "      <td>11.374344</td>\n",
              "    </tr>\n",
              "    <tr>\n",
              "      <th>documento_1281</th>\n",
              "      <td>21.781078</td>\n",
              "      <td>0.320098</td>\n",
              "      <td>0.320098</td>\n",
              "      <td>0.000000</td>\n",
              "      <td>0.640196</td>\n",
              "      <td>0.000000</td>\n",
              "      <td>0.000000</td>\n",
              "      <td>0.320098</td>\n",
              "      <td>1.747394</td>\n",
              "      <td>5.407747</td>\n",
              "      <td>...</td>\n",
              "      <td>9.083865</td>\n",
              "      <td>13.521319</td>\n",
              "      <td>14.724690</td>\n",
              "      <td>23.531461</td>\n",
              "      <td>19.337303</td>\n",
              "      <td>4.201149</td>\n",
              "      <td>5.181719</td>\n",
              "      <td>0.320098</td>\n",
              "      <td>16.285344</td>\n",
              "      <td>10.771613</td>\n",
              "    </tr>\n",
              "    <tr>\n",
              "      <th>documento_759</th>\n",
              "      <td>21.345521</td>\n",
              "      <td>8.110040</td>\n",
              "      <td>0.000000</td>\n",
              "      <td>0.000000</td>\n",
              "      <td>0.000000</td>\n",
              "      <td>0.000000</td>\n",
              "      <td>7.110539</td>\n",
              "      <td>3.160579</td>\n",
              "      <td>3.949960</td>\n",
              "      <td>0.000000</td>\n",
              "      <td>...</td>\n",
              "      <td>1.930242</td>\n",
              "      <td>1.917258</td>\n",
              "      <td>2.732502</td>\n",
              "      <td>13.499331</td>\n",
              "      <td>9.128471</td>\n",
              "      <td>2.566350</td>\n",
              "      <td>11.462074</td>\n",
              "      <td>14.869839</td>\n",
              "      <td>15.346670</td>\n",
              "      <td>4.127733</td>\n",
              "    </tr>\n",
              "    <tr>\n",
              "      <th>...</th>\n",
              "      <td>...</td>\n",
              "      <td>...</td>\n",
              "      <td>...</td>\n",
              "      <td>...</td>\n",
              "      <td>...</td>\n",
              "      <td>...</td>\n",
              "      <td>...</td>\n",
              "      <td>...</td>\n",
              "      <td>...</td>\n",
              "      <td>...</td>\n",
              "      <td>...</td>\n",
              "      <td>...</td>\n",
              "      <td>...</td>\n",
              "      <td>...</td>\n",
              "      <td>...</td>\n",
              "      <td>...</td>\n",
              "      <td>...</td>\n",
              "      <td>...</td>\n",
              "      <td>...</td>\n",
              "      <td>...</td>\n",
              "      <td>...</td>\n",
              "    </tr>\n",
              "    <tr>\n",
              "      <th>documento_615</th>\n",
              "      <td>0.000000</td>\n",
              "      <td>0.346084</td>\n",
              "      <td>0.346084</td>\n",
              "      <td>0.000000</td>\n",
              "      <td>7.539098</td>\n",
              "      <td>0.000000</td>\n",
              "      <td>10.310437</td>\n",
              "      <td>2.968113</td>\n",
              "      <td>6.898937</td>\n",
              "      <td>4.676257</td>\n",
              "      <td>...</td>\n",
              "      <td>4.023305</td>\n",
              "      <td>14.022402</td>\n",
              "      <td>3.174115</td>\n",
              "      <td>38.325162</td>\n",
              "      <td>22.715269</td>\n",
              "      <td>7.784728</td>\n",
              "      <td>15.678885</td>\n",
              "      <td>8.646381</td>\n",
              "      <td>10.222847</td>\n",
              "      <td>5.849051</td>\n",
              "    </tr>\n",
              "    <tr>\n",
              "      <th>documento_617</th>\n",
              "      <td>0.000000</td>\n",
              "      <td>1.217109</td>\n",
              "      <td>0.000000</td>\n",
              "      <td>0.000000</td>\n",
              "      <td>1.286511</td>\n",
              "      <td>0.000000</td>\n",
              "      <td>1.286511</td>\n",
              "      <td>1.286511</td>\n",
              "      <td>4.955691</td>\n",
              "      <td>1.286511</td>\n",
              "      <td>...</td>\n",
              "      <td>6.253500</td>\n",
              "      <td>4.772650</td>\n",
              "      <td>3.789254</td>\n",
              "      <td>14.366532</td>\n",
              "      <td>18.000820</td>\n",
              "      <td>26.668439</td>\n",
              "      <td>22.722172</td>\n",
              "      <td>5.763355</td>\n",
              "      <td>10.952809</td>\n",
              "      <td>12.022902</td>\n",
              "    </tr>\n",
              "    <tr>\n",
              "      <th>documento_618</th>\n",
              "      <td>0.000000</td>\n",
              "      <td>1.464918</td>\n",
              "      <td>1.653516</td>\n",
              "      <td>2.329096</td>\n",
              "      <td>0.441709</td>\n",
              "      <td>0.000000</td>\n",
              "      <td>2.329096</td>\n",
              "      <td>1.653516</td>\n",
              "      <td>0.220855</td>\n",
              "      <td>6.373341</td>\n",
              "      <td>...</td>\n",
              "      <td>1.940929</td>\n",
              "      <td>9.939484</td>\n",
              "      <td>5.544515</td>\n",
              "      <td>6.992243</td>\n",
              "      <td>2.897579</td>\n",
              "      <td>8.215089</td>\n",
              "      <td>25.185787</td>\n",
              "      <td>2.161784</td>\n",
              "      <td>8.591200</td>\n",
              "      <td>2.706562</td>\n",
              "    </tr>\n",
              "    <tr>\n",
              "      <th>documento_619</th>\n",
              "      <td>0.000000</td>\n",
              "      <td>3.158837</td>\n",
              "      <td>2.369910</td>\n",
              "      <td>0.000000</td>\n",
              "      <td>2.421074</td>\n",
              "      <td>0.000000</td>\n",
              "      <td>1.966789</td>\n",
              "      <td>4.336698</td>\n",
              "      <td>2.193931</td>\n",
              "      <td>2.193931</td>\n",
              "      <td>...</td>\n",
              "      <td>0.000000</td>\n",
              "      <td>13.029461</td>\n",
              "      <td>3.410517</td>\n",
              "      <td>27.541975</td>\n",
              "      <td>21.764139</td>\n",
              "      <td>7.706727</td>\n",
              "      <td>14.017804</td>\n",
              "      <td>24.164108</td>\n",
              "      <td>17.491944</td>\n",
              "      <td>4.770407</td>\n",
              "    </tr>\n",
              "    <tr>\n",
              "      <th>documento_1460</th>\n",
              "      <td>0.000000</td>\n",
              "      <td>0.375396</td>\n",
              "      <td>0.375396</td>\n",
              "      <td>0.000000</td>\n",
              "      <td>2.446892</td>\n",
              "      <td>0.000000</td>\n",
              "      <td>4.776747</td>\n",
              "      <td>0.375396</td>\n",
              "      <td>0.375396</td>\n",
              "      <td>0.375396</td>\n",
              "      <td>...</td>\n",
              "      <td>4.182685</td>\n",
              "      <td>2.173598</td>\n",
              "      <td>4.843593</td>\n",
              "      <td>15.860868</td>\n",
              "      <td>8.740766</td>\n",
              "      <td>0.375396</td>\n",
              "      <td>41.623263</td>\n",
              "      <td>9.147956</td>\n",
              "      <td>8.365370</td>\n",
              "      <td>6.405894</td>\n",
              "    </tr>\n",
              "  </tbody>\n",
              "</table>\n",
              "<p>1460 rows × 112 columns</p>\n",
              "</div>\n",
              "      <button class=\"colab-df-convert\" onclick=\"convertToInteractive('df-ac201ea0-c88a-467c-8884-08bfc7041559')\"\n",
              "              title=\"Convert this dataframe to an interactive table.\"\n",
              "              style=\"display:none;\">\n",
              "        \n",
              "  <svg xmlns=\"http://www.w3.org/2000/svg\" height=\"24px\"viewBox=\"0 0 24 24\"\n",
              "       width=\"24px\">\n",
              "    <path d=\"M0 0h24v24H0V0z\" fill=\"none\"/>\n",
              "    <path d=\"M18.56 5.44l.94 2.06.94-2.06 2.06-.94-2.06-.94-.94-2.06-.94 2.06-2.06.94zm-11 1L8.5 8.5l.94-2.06 2.06-.94-2.06-.94L8.5 2.5l-.94 2.06-2.06.94zm10 10l.94 2.06.94-2.06 2.06-.94-2.06-.94-.94-2.06-.94 2.06-2.06.94z\"/><path d=\"M17.41 7.96l-1.37-1.37c-.4-.4-.92-.59-1.43-.59-.52 0-1.04.2-1.43.59L10.3 9.45l-7.72 7.72c-.78.78-.78 2.05 0 2.83L4 21.41c.39.39.9.59 1.41.59.51 0 1.02-.2 1.41-.59l7.78-7.78 2.81-2.81c.8-.78.8-2.07 0-2.86zM5.41 20L4 18.59l7.72-7.72 1.47 1.35L5.41 20z\"/>\n",
              "  </svg>\n",
              "      </button>\n",
              "      \n",
              "  <style>\n",
              "    .colab-df-container {\n",
              "      display:flex;\n",
              "      flex-wrap:wrap;\n",
              "      gap: 12px;\n",
              "    }\n",
              "\n",
              "    .colab-df-convert {\n",
              "      background-color: #E8F0FE;\n",
              "      border: none;\n",
              "      border-radius: 50%;\n",
              "      cursor: pointer;\n",
              "      display: none;\n",
              "      fill: #1967D2;\n",
              "      height: 32px;\n",
              "      padding: 0 0 0 0;\n",
              "      width: 32px;\n",
              "    }\n",
              "\n",
              "    .colab-df-convert:hover {\n",
              "      background-color: #E2EBFA;\n",
              "      box-shadow: 0px 1px 2px rgba(60, 64, 67, 0.3), 0px 1px 3px 1px rgba(60, 64, 67, 0.15);\n",
              "      fill: #174EA6;\n",
              "    }\n",
              "\n",
              "    [theme=dark] .colab-df-convert {\n",
              "      background-color: #3B4455;\n",
              "      fill: #D2E3FC;\n",
              "    }\n",
              "\n",
              "    [theme=dark] .colab-df-convert:hover {\n",
              "      background-color: #434B5C;\n",
              "      box-shadow: 0px 1px 3px 1px rgba(0, 0, 0, 0.15);\n",
              "      filter: drop-shadow(0px 1px 2px rgba(0, 0, 0, 0.3));\n",
              "      fill: #FFFFFF;\n",
              "    }\n",
              "  </style>\n",
              "\n",
              "      <script>\n",
              "        const buttonEl =\n",
              "          document.querySelector('#df-ac201ea0-c88a-467c-8884-08bfc7041559 button.colab-df-convert');\n",
              "        buttonEl.style.display =\n",
              "          google.colab.kernel.accessAllowed ? 'block' : 'none';\n",
              "\n",
              "        async function convertToInteractive(key) {\n",
              "          const element = document.querySelector('#df-ac201ea0-c88a-467c-8884-08bfc7041559');\n",
              "          const dataTable =\n",
              "            await google.colab.kernel.invokeFunction('convertToInteractive',\n",
              "                                                     [key], {});\n",
              "          if (!dataTable) return;\n",
              "\n",
              "          const docLinkHtml = 'Like what you see? Visit the ' +\n",
              "            '<a target=\"_blank\" href=https://colab.research.google.com/notebooks/data_table.ipynb>data table notebook</a>'\n",
              "            + ' to learn more about interactive tables.';\n",
              "          element.innerHTML = '';\n",
              "          dataTable['output_type'] = 'display_data';\n",
              "          await google.colab.output.renderOutput(dataTable, element);\n",
              "          const docLink = document.createElement('div');\n",
              "          docLink.innerHTML = docLinkHtml;\n",
              "          element.appendChild(docLink);\n",
              "        }\n",
              "      </script>\n",
              "    </div>\n",
              "  </div>\n",
              "  "
            ]
          },
          "metadata": {},
          "execution_count": 90
        }
      ]
    }
  ]
}